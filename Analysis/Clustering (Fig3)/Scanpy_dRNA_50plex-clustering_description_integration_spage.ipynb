{
 "cells": [
  {
   "cell_type": "markdown",
   "id": "4e363401",
   "metadata": {},
   "source": [
    "# NOTEBOOK EXPLANATION"
   ]
  },
  {
   "cell_type": "markdown",
   "id": "e8a208ee",
   "metadata": {},
   "source": [
    "This notebook is used to identify clusters in the 50plex experiment, map them back into the tissue and integrate the dataset with other technologies"
   ]
  },
  {
   "cell_type": "markdown",
   "id": "db8d7d43",
   "metadata": {},
   "source": [
    "# Load packages"
   ]
  },
  {
   "cell_type": "code",
   "execution_count": null,
   "id": "747260e8",
   "metadata": {},
   "outputs": [],
   "source": [
    "import numpy as np\n",
    "import pandas as pd\n",
    "import scanpy as sc\n",
    "import seaborn as sns"
   ]
  },
  {
   "cell_type": "markdown",
   "id": "99522e30",
   "metadata": {},
   "source": [
    "# Load the data"
   ]
  },
  {
   "cell_type": "code",
   "execution_count": null,
   "id": "1d80a624",
   "metadata": {},
   "outputs": [],
   "source": [
    "re=pd.read_csv('U:/PROJECT_DirectRNA/directRNA/50plex_MAY/50_plex_decoded_20X/50plexV1_SAMPLE1_SPOTS_found_REVISED_26_JUNE_14CYCLES_GFAP.csv')"
   ]
  },
  {
   "cell_type": "code",
   "execution_count": null,
   "id": "7c2ef2fb",
   "metadata": {},
   "outputs": [],
   "source": [
    "re.columns=['ID','X','Y','gene']"
   ]
  },
  {
   "cell_type": "code",
   "execution_count": null,
   "id": "c4d551c8",
   "metadata": {},
   "outputs": [],
   "source": [
    "IN=range(1,50)\n",
    "USEDNAMES=['Mbp','Slc17a7','Lamp5','Cd24a','Gad2','Cnr1','Pthlh','Crhbp','Slc32a1',\n",
    "'Vip','Tbr1','Kcnip2','Crh','Cpne5','Rorb','Serpinf1','Gfap','Aldoc','Syt6','Mfge8','Cemip2','Pdgfra','Plp1',\n",
    "'Sox10','Itpr2','Hexb','Anln','Bmp4','Ctps','Mrc1','Acta2','Apln','Flt1','Vtn','Ttr','Synpr','Npy',\n",
    "'Sst','Foxj1','Pcp4','Calm2','Gad1','Pvalb','Penk','Rgs4','Nrn1','Tac2','Calb2','Slc6a1','Enc1'];\n",
    "dictionary=dict(zip(IN,USEDNAMES))"
   ]
  },
  {
   "cell_type": "code",
   "execution_count": null,
   "id": "29d8d797",
   "metadata": {},
   "outputs": [],
   "source": [
    "dictionary"
   ]
  },
  {
   "cell_type": "code",
   "execution_count": null,
   "id": "7b709836",
   "metadata": {},
   "outputs": [],
   "source": [
    "re['gene']=re['gene'].map(dictionary)"
   ]
  },
  {
   "cell_type": "code",
   "execution_count": null,
   "id": "3e6b43e8",
   "metadata": {},
   "outputs": [],
   "source": [
    "re.to_csv('U:/PROJECT_DirectRNA/directRNA/50plex_reads.csv')"
   ]
  },
  {
   "cell_type": "code",
   "execution_count": null,
   "id": "113ee1fd",
   "metadata": {},
   "outputs": [],
   "source": [
    "data=pd.read_csv('F:\\PROJECT_DirectRNA\\directRNA\\SUPPTABLE_individual_cell_expression.csv')"
   ]
  },
  {
   "cell_type": "code",
   "execution_count": null,
   "id": "729527d1",
   "metadata": {},
   "outputs": [],
   "source": [
    "data.columns"
   ]
  },
  {
   "cell_type": "code",
   "execution_count": null,
   "id": "31762e91",
   "metadata": {},
   "outputs": [],
   "source": [
    "metadata=data.iloc[:,[0,1,2,3,4,55]]\n",
    "expdata=data.iloc[:,range(5,55)]"
   ]
  },
  {
   "cell_type": "markdown",
   "id": "21ff7a51",
   "metadata": {},
   "source": [
    "# Create AnnData object, filter and cluster"
   ]
  },
  {
   "cell_type": "code",
   "execution_count": null,
   "id": "4bc58ca2",
   "metadata": {},
   "outputs": [],
   "source": [
    "adata = sc.AnnData(expdata)\n",
    "adata.obs=metadata"
   ]
  },
  {
   "cell_type": "code",
   "execution_count": null,
   "id": "da4299ab",
   "metadata": {},
   "outputs": [],
   "source": [
    "sc.pp.filter_cells(adata, min_genes=4)"
   ]
  },
  {
   "cell_type": "code",
   "execution_count": null,
   "id": "ef2b116e",
   "metadata": {},
   "outputs": [],
   "source": [
    "sc.pp.normalize_total(adata, target_sum=1e4)\n",
    "sc.pp.log1p(adata)\n",
    "sc.pp.neighbors(adata, n_neighbors=14, n_pcs=40)\n",
    "sc.tl.leiden(adata,resolution=1.2)"
   ]
  },
  {
   "cell_type": "code",
   "execution_count": null,
   "id": "bb9266db",
   "metadata": {},
   "outputs": [],
   "source": [
    "sc.tl.umap(adata,min_dist=0.4)\n",
    "sc.set_figure_params(scanpy=True, dpi=200)\n",
    "sc.pl.umap(adata,color=['leiden'],save='50plex_UMAP_numbers.svg')"
   ]
  },
  {
   "cell_type": "code",
   "execution_count": null,
   "id": "a780923e",
   "metadata": {
    "scrolled": true
   },
   "outputs": [],
   "source": [
    "sc.pl.umap(adata,color=['Slc17a7','Plp1','Slc32a1'],save='50plex_UMAP_Scl17a7_Plp1_Slc32a1.svg')"
   ]
  },
  {
   "cell_type": "code",
   "execution_count": null,
   "id": "6bc70111",
   "metadata": {},
   "outputs": [],
   "source": [
    "import matplotlib as plt"
   ]
  },
  {
   "cell_type": "code",
   "execution_count": null,
   "id": "da47e992",
   "metadata": {},
   "outputs": [],
   "source": [
    "colors = {0:\"#FFFF00\", 1: \"#1CE6FF\", 2:\"#FF34FF\", 3:\"#FF4A46\",4:\"#008941\",5: \"#006FA6\", 6:\"#A30059\",\n",
    "    7:\"#FFDBE5\", 8:\"#7A4900\", 9:\"#0000A6\", 10:\"#63FFAC\", 11:\"#B79762\", 12:\"#004D43\", 13:\"#8FB0FF\", 14:\"#997D87\",\n",
    "    15:\"#5A0007\", 16:\"#809693\", 17:\"#6A3A4C\", 18:\"#1B4400\", 19:\"#4FC601\", 20:\"#3B5DFF\", 21:\"#4A3B53\", 22:\"#FF2F80\",\n",
    "    23:\"#61615A\", 24:\"#BA0900\", 25:\"#6B7900\", 26:\"#00C2A0\",27:\"#6B7900\", 28:\"#00C2A0\" ,29:\"#6B7900\", 30:\"#00C2A0\"  }"
   ]
  },
  {
   "cell_type": "code",
   "execution_count": null,
   "id": "24cd99a2",
   "metadata": {},
   "outputs": [],
   "source": [
    "cl=adata.obs['leiden'].astype(int)\n",
    "cl.apply(lambda x: colors[x])"
   ]
  },
  {
   "cell_type": "code",
   "execution_count": null,
   "id": "79d8226e",
   "metadata": {},
   "outputs": [],
   "source": [
    "import seaborn as sns\n",
    "figa=plt.pyplot.scatter(x=adata.obs.X,y=adata.obs.Y,c=cl.apply(lambda x: colors[x]),s=1.5,linewidths=0, edgecolors=None)\n",
    "plt.pyplot.axis('off')\n",
    "plt.pyplot.savefig('E:/PROJECT_DirectRNA/Figures_revision/50plex_expression_map.svg')"
   ]
  },
  {
   "cell_type": "code",
   "execution_count": null,
   "id": "d4295707",
   "metadata": {},
   "outputs": [],
   "source": []
  },
  {
   "cell_type": "code",
   "execution_count": null,
   "id": "76da6327",
   "metadata": {},
   "outputs": [],
   "source": [
    "import matplotlib.image as mpimg\n",
    "img = mpimg.imread('E:/PROJECT_DirectRNA/DAPI_20perc_50plex.tif')\n",
    "from PIL import Image, ImageOps"
   ]
  },
  {
   "cell_type": "code",
   "execution_count": null,
   "id": "3fb856c5",
   "metadata": {},
   "outputs": [],
   "source": []
  },
  {
   "cell_type": "code",
   "execution_count": null,
   "id": "d12e38b9",
   "metadata": {},
   "outputs": [],
   "source": [
    "import seaborn as sns\n",
    "plt.pyplot.imshow(img*20, cmap='gray',origin='lower')\n",
    "plt.pyplot.scatter(x=adata.obs.Y/5,y=adata.obs.X/5,c=cl.apply(lambda x: colors[x]),s=1.5,linewidths=0, edgecolors=None)\n",
    "plt.pyplot.axis('off')\n",
    "plt.pyplot.savefig('E:/PROJECT_DirectRNA/Figures_revision/50plex_expression_map_DAPI.svg')"
   ]
  },
  {
   "cell_type": "code",
   "execution_count": null,
   "id": "12f08882",
   "metadata": {},
   "outputs": [],
   "source": [
    "sc.tl.paga(adata)\n",
    "sc.pl.paga(adata, plot=False)  # remove `plot=False` if you want to see the coarse-grained graph\n",
    "sc.tl.umap(adata, init_pos='paga')"
   ]
  },
  {
   "cell_type": "code",
   "execution_count": null,
   "id": "6ebede89",
   "metadata": {},
   "outputs": [],
   "source": [
    "clusters=np.unique(adata.obs.leiden)\n",
    "plt.pyplot.style.use('seaborn-whitegrid')\n",
    "for i in clusters:\n",
    "    print(i)\n",
    "    int(i)\n",
    "    plt.pyplot.figure()\n",
    "    plt.pyplot.imshow(img*20, cmap='gray',origin='lower')\n",
    "    plt.pyplot.scatter(x=adata.obs.Y[adata.obs.leiden==i]/5,y=adata.obs.X[adata.obs.leiden==i]/5,c=cl[adata.obs.leiden==i].apply(lambda x: colors[x]),s=1.5,linewidths=0, edgecolors=None)\n",
    "    plt.pyplot.axis('off')\n",
    "    plt.pyplot.title('Cluster '+i)\n"
   ]
  },
  {
   "cell_type": "code",
   "execution_count": null,
   "id": "b5bfbf28",
   "metadata": {},
   "outputs": [],
   "source": [
    "adata.var_names=expdata.columns"
   ]
  },
  {
   "cell_type": "code",
   "execution_count": null,
   "id": "99d03050",
   "metadata": {},
   "outputs": [],
   "source": [
    "\n",
    "adata.layers['scaled'] = sc.pp.scale(adata, copy=True).X"
   ]
  },
  {
   "cell_type": "code",
   "execution_count": null,
   "id": "d04ab361",
   "metadata": {},
   "outputs": [],
   "source": [
    "annotation= {0:'OLIG 1',1:'OLIG 2',2:'ASTRO',3:'EXC 1',4:'EXC 2',5:'INH 1',6:'EXC 3',7:'INH 2',8:'ENDO',9:'Calb2+ cells',10:'EXC 4',12:'EXC 5',11:'EXC 6',13:'EXC 7',14:'EXC 8',15:'OLIG 3',\n",
    "             16:'EXC 9',17:'OLIG',18:'EXC 10',19:'INH 3',20:'EXC 11',21:'EXC 12',22:'Tac2+ cells',23:'UNKNOWN',24:'C.PLEXUS/EPENDYMAL',25:'OLIG 4',26:'OLIG 5',27:'INH 4'}"
   ]
  },
  {
   "cell_type": "code",
   "execution_count": null,
   "id": "2d48e430",
   "metadata": {},
   "outputs": [],
   "source": []
  },
  {
   "cell_type": "code",
   "execution_count": null,
   "id": "71c2f315",
   "metadata": {},
   "outputs": [],
   "source": [
    "adata.obs['leiden']"
   ]
  },
  {
   "cell_type": "code",
   "execution_count": null,
   "id": "613f61c4",
   "metadata": {},
   "outputs": [],
   "source": [
    "adata.obs['leiden'].astype(int).apply(lambda x: annotation[x])"
   ]
  },
  {
   "cell_type": "code",
   "execution_count": null,
   "id": "35983ddc",
   "metadata": {},
   "outputs": [],
   "source": [
    "adata.obs['clusters2']=adata.obs['leiden'].astype(int).apply(lambda x: annotation[x])"
   ]
  },
  {
   "cell_type": "code",
   "execution_count": null,
   "id": "bfa4e66f",
   "metadata": {},
   "outputs": [],
   "source": [
    "adata"
   ]
  },
  {
   "cell_type": "code",
   "execution_count": null,
   "id": "baf41492",
   "metadata": {
    "scrolled": false
   },
   "outputs": [],
   "source": [
    "sc.pl.matrixplot(adata,expdata.columns, 'clusters2', dendrogram=True,colorbar_title='mean z-score',vmin=-2, vmax=2,  cmap='RdBu_r',layer='scaled',swap_axes=True)#,save='Heatmap_Expression_50plex_30cl_REV.svg')"
   ]
  },
  {
   "cell_type": "code",
   "execution_count": null,
   "id": "0b070217",
   "metadata": {
    "scrolled": true
   },
   "outputs": [],
   "source": [
    "\n",
    "sc.pl.umap(adata,color=['clusters2'])# ,save='UMAP_50plex_withnames_revised.svg'"
   ]
  },
  {
   "cell_type": "code",
   "execution_count": null,
   "id": "37def544",
   "metadata": {},
   "outputs": [],
   "source": [
    "sc.pl.umap(adata,color=['Slc17a7','Plp1','Slc32a1'],cmap='viridis',save='UMAP_50plex_SLC17A7_PLP1_SLC32A1_revised.svg')"
   ]
  },
  {
   "cell_type": "code",
   "execution_count": null,
   "id": "f83e5bac",
   "metadata": {},
   "outputs": [],
   "source": [
    "cls=adata.obs['clusters2']\n",
    "#cls.apply(lambda x: colores[x])"
   ]
  },
  {
   "cell_type": "code",
   "execution_count": null,
   "id": "9cff26d0",
   "metadata": {},
   "outputs": [],
   "source": [
    "imcols"
   ]
  },
  {
   "cell_type": "code",
   "execution_count": null,
   "id": "d5ec6586",
   "metadata": {},
   "outputs": [],
   "source": [
    "imcols=np.unique(adata.obs['clusters2'])\n",
    "cols=adata.uns['clusters2_colors']\n",
    "colores=dict(zip(imcols,cols))"
   ]
  },
  {
   "cell_type": "code",
   "execution_count": null,
   "id": "9997d577",
   "metadata": {},
   "outputs": [],
   "source": [
    "colores"
   ]
  },
  {
   "cell_type": "code",
   "execution_count": null,
   "id": "e49a9b38",
   "metadata": {},
   "outputs": [],
   "source": [
    "colores"
   ]
  },
  {
   "cell_type": "code",
   "execution_count": null,
   "id": "884bda46",
   "metadata": {},
   "outputs": [],
   "source": [
    "cls.apply(lambda x: colores[x])"
   ]
  },
  {
   "cell_type": "code",
   "execution_count": null,
   "id": "dec83355",
   "metadata": {},
   "outputs": [],
   "source": [
    "import seaborn as sns\n",
    "plt.imshow(img*20, cmap='gray',origin='lower')\n",
    "plt.scatter(x=adata.obs.Y/5,y=adata.obs.X/5,c=cls.apply(lambda x: colores[x]),s=1.5,linewidths=0, edgecolors=None)\n",
    "plt.axis('off')\n",
    "plt.savefig('E:/PROJECT_DirectRNA/Figures_revision/50plex_expression_map_DAPI_clusternames.svg')"
   ]
  },
  {
   "cell_type": "code",
   "execution_count": null,
   "id": "b1ffe6df",
   "metadata": {},
   "outputs": [],
   "source": [
    "subset=['EXC 1','EXC 2','EXC 3','EXC 4','EXC 5','EXC 6','EXC 7','EXC 8','EXC 9','EXC 10','EXC 11','EXC 12']"
   ]
  },
  {
   "cell_type": "code",
   "execution_count": null,
   "id": "af7d159a",
   "metadata": {},
   "outputs": [],
   "source": [
    "clusters=subset\n",
    "plt.style.use('seaborn-whitegrid')\n",
    "plt.figure()\n",
    "plt.imshow(img*20, cmap='gray',origin='lower')\n",
    "for i in clusters:\n",
    "    print(i)\n",
    "    plt.scatter(x=adata.obs.Y[adata.obs['clusters2']==i]/5,y=adata.obs.X[adata.obs['clusters2']==i]/5,c=cls[adata.obs['clusters2']==i].apply(lambda x: colores[x]),s=1.5,linewidths=0, edgecolors=None)\n",
    "    plt.axis('off')\n",
    "    plt.title('EXCITATORY')\n",
    "plt.savefig('E:/PROJECT_DirectRNA/Figures_revision/EXC_map_rev.svg')"
   ]
  },
  {
   "cell_type": "code",
   "execution_count": null,
   "id": "6691fedf",
   "metadata": {},
   "outputs": [],
   "source": [
    "subset2=['OLIG','OLIG 1','OLIG 2','OLIG 3','OLIG 4','OLIG 5']"
   ]
  },
  {
   "cell_type": "code",
   "execution_count": null,
   "id": "a1cd297c",
   "metadata": {},
   "outputs": [],
   "source": [
    "clusters=subset2\n",
    "plt.style.use('seaborn-whitegrid')\n",
    "plt.figure()\n",
    "plt.imshow(img*20, cmap='gray',origin='lower')\n",
    "for i in clusters:\n",
    "    print(i)\n",
    "    plt.scatter(x=adata.obs.Y[adata.obs.clusters==i]/5,y=adata.obs.X[adata.obs.clusters==i]/5,c=cls[adata.obs.clusters==i].apply(lambda x: colores[x]),s=1.5,linewidths=0, edgecolors=None)\n",
    "    plt.axis('off')\n",
    "    plt.title('OLIGODENDROCYTES')\n",
    "plt.savefig('E:/PROJECT_DirectRNA/Figures_revision/OLIGO_map_rev.svg')"
   ]
  },
  {
   "cell_type": "code",
   "execution_count": null,
   "id": "03ac7f4e",
   "metadata": {},
   "outputs": [],
   "source": [
    "subset3=['Calb2+ cells','Tac2+ cells']"
   ]
  },
  {
   "cell_type": "code",
   "execution_count": null,
   "id": "65cd5001",
   "metadata": {},
   "outputs": [],
   "source": [
    "clusters=subset3\n",
    "plt.style.use('seaborn-whitegrid')\n",
    "plt.figure()\n",
    "plt.imshow(img*20, cmap='gray',origin='lower')\n",
    "for i in clusters:\n",
    "    print(i)\n",
    "    plt.scatter(x=adata.obs.Y[adata.obs.clusters==i]/5,y=adata.obs.X[adata.obs.clusters==i]/5,c=cls[adata.obs.clusters==i].apply(lambda x: colores[x]),s=1.5,linewidths=0, edgecolors=None)\n",
    "    plt.axis('off')\n",
    "    plt.title('TAC2/CALB2 CELLS')\n",
    "plt.savefig('E:/PROJECT_DirectRNA/Figures_revision/TAC_CALB2_cells_map_rev.svg')"
   ]
  },
  {
   "cell_type": "code",
   "execution_count": null,
   "id": "aa087f7a",
   "metadata": {},
   "outputs": [],
   "source": [
    "subset4=['INH 1','INH 2','INH 3']"
   ]
  },
  {
   "cell_type": "code",
   "execution_count": null,
   "id": "443b79de",
   "metadata": {},
   "outputs": [],
   "source": [
    "clusters=subset4\n",
    "plt.style.use('seaborn-whitegrid')\n",
    "plt.figure()\n",
    "plt.imshow(img*20, cmap='gray',origin='lower')\n",
    "for i in clusters:\n",
    "    print(i)\n",
    "    plt.scatter(x=adata.obs.Y[adata.obs.clusters==i]/5,y=adata.obs.X[adata.obs.clusters==i]/5,c=cls[adata.obs.clusters==i].apply(lambda x: colores[x]),s=1.5,linewidths=0, edgecolors=None)\n",
    "    plt.axis('off')\n",
    "    plt.title('INHIBITORY CELLS')\n",
    "plt.savefig('E:/PROJECT_DirectRNA/Figures_revision/Inhibitory_cells_map_rev.svg')"
   ]
  },
  {
   "cell_type": "code",
   "execution_count": null,
   "id": "ef753ca7",
   "metadata": {},
   "outputs": [],
   "source": [
    "subset5=['C.PLEXUS/EPENDYMAL']"
   ]
  },
  {
   "cell_type": "code",
   "execution_count": null,
   "id": "61a22590",
   "metadata": {},
   "outputs": [],
   "source": [
    "clusters=subset5\n",
    "plt.style.use('seaborn-whitegrid')\n",
    "plt.figure()\n",
    "plt.imshow(img*20, cmap='gray',origin='lower')\n",
    "for i in clusters:\n",
    "    print(i)\n",
    "    plt.scatter(x=adata.obs.Y[adata.obs.clusters==i]/5,y=adata.obs.X[adata.obs.clusters==i]/5,c=cls[adata.obs.clusters==i].apply(lambda x: colores[x]),s=1.5,linewidths=0, edgecolors=None)\n",
    "    plt.axis('off')\n",
    "    plt.title('Ependymal/C.Plexus')\n",
    "plt.savefig('E:/PROJECT_DirectRNA/Figures_revision/Epen_Cplexus_cells_map.svg')"
   ]
  },
  {
   "cell_type": "code",
   "execution_count": null,
   "id": "a13668b6",
   "metadata": {},
   "outputs": [],
   "source": [
    "subset6=['microglia','endo/astro']"
   ]
  },
  {
   "cell_type": "code",
   "execution_count": null,
   "id": "971ececc",
   "metadata": {},
   "outputs": [],
   "source": [
    "clusters=subset6\n",
    "plt.style.use('seaborn-whitegrid')\n",
    "plt.figure()\n",
    "plt.imshow(img*20, cmap='gray',origin='lower')\n",
    "for i in clusters:\n",
    "    print(i)\n",
    "    plt.scatter(x=adata.obs.Y[adata.obs.clusters==i]/5,y=adata.obs.X[adata.obs.clusters==i]/5,c=cls[adata.obs.clusters==i].apply(lambda x: colores[x]),s=1.5,linewidths=0, edgecolors=None)\n",
    "    plt.axis('off')\n",
    "    plt.title('Microglia Endo/Astro')\n",
    "plt.savefig('E:/PROJECT_DirectRNA/Figures_revision/Microglia_endo_astro_map.svg')"
   ]
  },
  {
   "cell_type": "code",
   "execution_count": null,
   "id": "3df1492b",
   "metadata": {},
   "outputs": [],
   "source": [
    "clusters=\n",
    "plt.style.use('seaborn-whitegrid')\n",
    "for i in clusters:\n",
    "    print(i)\n",
    "    plt.figure()\n",
    "    plt.imshow(img*20, cmap='gray',origin='lower')\n",
    "    plt.scatter(x=adata.obs.Y[adata.obs.clusters==i]/5,y=adata.obs.X[adata.obs.clusters==i]/5,c=cls[adata.obs.clusters==i].apply(lambda x: colores[x]),s=1.5,linewidths=0, edgecolors=None)\n",
    "    plt.axis('off')\n",
    "    plt.title('Cluster '+i)"
   ]
  },
  {
   "cell_type": "code",
   "execution_count": null,
   "id": "35a366d3",
   "metadata": {},
   "outputs": [],
   "source": [
    "clusters=np.unique(adata.obs.clusters)\n",
    "plt.style.use('seaborn-whitegrid')\n",
    "for i in clusters:\n",
    "    print(i)\n",
    "    plt.figure()\n",
    "    plt.imshow(img*20, cmap='gray',origin='lower')\n",
    "    plt.scatter(x=adata.obs.Y[adata.obs.clusters==i]/5,y=adata.obs.X[adata.obs.clusters==i]/5,c=cls[adata.obs.clusters==i].apply(lambda x: colores[x]),s=1.5,linewidths=0, edgecolors=None)\n",
    "    plt.axis('off')\n",
    "    plt.title('Cluster '+i)"
   ]
  },
  {
   "cell_type": "code",
   "execution_count": null,
   "id": "258bf082",
   "metadata": {},
   "outputs": [],
   "source": []
  },
  {
   "cell_type": "code",
   "execution_count": null,
   "id": "8d97820f",
   "metadata": {},
   "outputs": [],
   "source": [
    "datafra=pd.DataFrame(data=[adata.obs.X,adata.obs.Y,adata.obs.leiden,adata.obs.clusters])"
   ]
  },
  {
   "cell_type": "code",
   "execution_count": null,
   "id": "824d2d6f",
   "metadata": {},
   "outputs": [],
   "source": [
    "datafra2=datafra.transpose()\n",
    "datafra2.to_csv('E:\\PROJECT_DirectRNA\\directRNA\\clusters_leiden_50X.csv')\n",
    "datafra2"
   ]
  },
  {
   "cell_type": "code",
   "execution_count": null,
   "id": "37efaf66",
   "metadata": {},
   "outputs": [],
   "source": [
    "ax = sc.pl.heatmap(adata,expdata.columns,groupby= 'clusters', layer='scaled', vmin=-2, vmax=2, cmap='RdBu_r', dendrogram=True, swap_axes=True)"
   ]
  },
  {
   "cell_type": "code",
   "execution_count": null,
   "id": "f3c42dc3",
   "metadata": {},
   "outputs": [],
   "source": [
    "adata.write('E:/PROJECT_DirectRNA/Figures_revision/50plex_analysis_REV.h5')"
   ]
  },
  {
   "cell_type": "markdown",
   "id": "2623edbb",
   "metadata": {},
   "source": [
    "# SAVING INFO"
   ]
  },
  {
   "cell_type": "code",
   "execution_count": null,
   "id": "ebdc5a37",
   "metadata": {},
   "outputs": [],
   "source": [
    "import scanpy as sc\n",
    "adata=sc.read_h5ad('G:/PROJECT_DirectRNA/Figures_revision/MAIN_50plex_clustering/50plex_analysis.h5')"
   ]
  },
  {
   "cell_type": "code",
   "execution_count": null,
   "id": "eed4bfd6",
   "metadata": {},
   "outputs": [],
   "source": [
    "SUPPTABLE=pd.DataFrame(adata.X)"
   ]
  },
  {
   "cell_type": "code",
   "execution_count": null,
   "id": "dbec92f5",
   "metadata": {},
   "outputs": [],
   "source": [
    "SUPPTABLE.columns=adata.var.index"
   ]
  },
  {
   "cell_type": "code",
   "execution_count": null,
   "id": "ed684a43",
   "metadata": {},
   "outputs": [],
   "source": [
    "SUPPTABLE"
   ]
  },
  {
   "cell_type": "code",
   "execution_count": null,
   "id": "dea77349",
   "metadata": {},
   "outputs": [],
   "source": [
    "SUPPTABLE['X']=list(adata.obs['X'])\n",
    "SUPPTABLE['Y']=list(adata.obs['Y'])"
   ]
  },
  {
   "cell_type": "code",
   "execution_count": null,
   "id": "111791f6",
   "metadata": {},
   "outputs": [],
   "source": [
    "SUPPTABLE['Main_cluster']=list(adata.obs['clusters'])\n",
    "SUPPTABLE['Number']=list(adata.obs['Number'])"
   ]
  },
  {
   "cell_type": "code",
   "execution_count": null,
   "id": "06cde5a3",
   "metadata": {},
   "outputs": [],
   "source": [
    "SUPPTABLE.to_csv('G:/PROJECT_DirectRNA/Figures_revision/New_supplementary_info/supp_expression_cells.csv')"
   ]
  },
  {
   "cell_type": "code",
   "execution_count": null,
   "id": "47c1dd61",
   "metadata": {},
   "outputs": [],
   "source": [
    "res = pd.DataFrame(columns=adata.var_names, index=adata.obs['clusters'].cat.categories)                                                                                                 \n",
    "\n",
    "for clust in adata.obs.clusters.cat.categories: \n",
    "    res.loc[clust] = adata[adata.obs['clusters'].isin([clust]),:].X.mean(0)"
   ]
  },
  {
   "cell_type": "code",
   "execution_count": null,
   "id": "0705de9b",
   "metadata": {},
   "outputs": [],
   "source": [
    "res.to_csv('G:/PROJECT_DirectRNA/Figures_revision/New_supplementary_info/supp_mean_expression_celltypes.csv')"
   ]
  },
  {
   "cell_type": "markdown",
   "id": "173e6b8d",
   "metadata": {},
   "source": [
    "# SPAGE INTEGRATION"
   ]
  },
  {
   "cell_type": "markdown",
   "id": "30c045f1",
   "metadata": {},
   "source": [
    "Next, we integrate the different datasets using SPAGE"
   ]
  },
  {
   "cell_type": "code",
   "execution_count": null,
   "id": "556936ea",
   "metadata": {},
   "outputs": [],
   "source": [
    "import numpy as np\n",
    "import pandas as pd\n",
    "import loompy\n",
    "import matplotlib.pyplot as plt\n",
    "import scipy.stats as st\n",
    "#from SpaGE.main import SpaGE\n",
    "import warnings\n",
    "warnings.filterwarnings('ignore')"
   ]
  },
  {
   "cell_type": "code",
   "execution_count": null,
   "id": "42f89504",
   "metadata": {},
   "outputs": [],
   "source": [
    "ds = loompy.connect('U:/PROJECT_DirectRNA/l5_all (1).loom')\n",
    "d = {'CellID': ds.ca.CellID, 'Age': ds.ca.Age,'Cluster':ds.ca.ClusterName,'Region':ds.ca.Region}\n",
    "RNA_metaX=pd.DataFrame(data=d)\n",
    "#RNA_meta.columns=['Age','ID']\n",
    "\n",
    "RNA_metaX\n",
    "RNA_metaX['BigCluster']=ds.ca.TaxonomyRank4\n",
    "select=RNA_metaX['Region'].isin(['Cortex','Brain', 'CNS','Hippocampus', 'Hippocampus,Cortex','Telencephalon','Thalamus'])\n",
    "#RNA_data.shape\n",
    "RNA_meta=RNA_metaX[select]\n"
   ]
  },
  {
   "cell_type": "code",
   "execution_count": null,
   "id": "e1a9f283",
   "metadata": {},
   "outputs": [],
   "source": [
    "RNA=pd.DataFrame(ds[:,:])\n",
    "RNA.index=ds.ra.Gene\n",
    "RNA_data = RNA"
   ]
  },
  {
   "cell_type": "code",
   "execution_count": null,
   "id": "973eaf94",
   "metadata": {},
   "outputs": [],
   "source": [
    "RNA_data"
   ]
  },
  {
   "cell_type": "code",
   "execution_count": null,
   "id": "a5c723eb",
   "metadata": {},
   "outputs": [],
   "source": [
    "# filter lowely expressed genes\n",
    "RNA_data=RNA_data.loc[:,select]\n",
    "Genes_count = np.sum(RNA_data > 0, axis=1)\n",
    "RNA_data = RNA_data.loc[Genes_count >=10,:]\n",
    "del Genes_count\n",
    "\n",
    "# Normalization\n",
    "def Log_Norm_cpm(x):\n",
    "    return np.log(((x/np.sum(x))*1000000) + 1)\n"
   ]
  },
  {
   "cell_type": "code",
   "execution_count": null,
   "id": "77c38093",
   "metadata": {},
   "outputs": [],
   "source": [
    "expression=RNA_data"
   ]
  },
  {
   "cell_type": "code",
   "execution_count": null,
   "id": "b5bf9cc0",
   "metadata": {},
   "outputs": [],
   "source": [
    "ge=['Mbp', 'Slc17a7', 'Lamp5', 'Cd24a', 'Gad2', 'Cnr1', 'Pthlh', 'Crhbp',\n",
    "       'Slc32a1', 'Vip', 'Tbr1', 'Kcnip2', 'Crh', 'Cpne5', 'Rorb', 'Serpinf1',\n",
    "       'Gfap', 'Aldoc', 'Syt6', 'Mfge8', 'Pdgfra', 'Plp1', 'Sox10',\n",
    "       'Itpr2', 'Hexb', 'Anln', 'Bmp4', 'Ctps', 'Mrc1', 'Acta2', 'Apln',\n",
    "       'Flt1', 'Vtn', 'Ttr', 'Synpr', 'Npy', 'Sst', 'Foxj1', 'Pcp4', 'Calm2',\n",
    "       'Gad1', 'Pvalb', 'Penk', 'Rgs4', 'Nrn1', 'Tac2', 'Calb2', 'Slc6a1',\n",
    "       'Enc1']"
   ]
  },
  {
   "cell_type": "code",
   "execution_count": null,
   "id": "be900a1c",
   "metadata": {},
   "outputs": [],
   "source": [
    "\n",
    "expression=expression.loc[ge,:]"
   ]
  },
  {
   "cell_type": "code",
   "execution_count": null,
   "id": "b312e957",
   "metadata": {},
   "outputs": [],
   "source": [
    "expression=expression.transpose()"
   ]
  },
  {
   "cell_type": "code",
   "execution_count": null,
   "id": "41b0acdc",
   "metadata": {},
   "outputs": [],
   "source": []
  },
  {
   "cell_type": "markdown",
   "id": "249859f5",
   "metadata": {},
   "source": [
    "# Load Spatial"
   ]
  },
  {
   "cell_type": "code",
   "execution_count": null,
   "id": "bd7135cd",
   "metadata": {},
   "outputs": [],
   "source": [
    "osmFISH_meta=adata.obs\n",
    "#osmFISH_meta.index=ds.index\n",
    "osmFISH_data=adata.X\n",
    "osmFISH_data=pd.DataFrame(osmFISH_data)\n",
    "osmFISH_data=pd.DataFrame.transpose(osmFISH_data)\n",
    "osmFISH_data"
   ]
  },
  {
   "cell_type": "code",
   "execution_count": null,
   "id": "cffee515",
   "metadata": {},
   "outputs": [],
   "source": [
    "osmFISH_data.index=adata.var_names"
   ]
  },
  {
   "cell_type": "code",
   "execution_count": null,
   "id": "a0603ae3",
   "metadata": {},
   "outputs": [],
   "source": [
    "# Normalization\n",
    "cell_count = np.sum(osmFISH_data,axis=0)\n",
    "def Log_Norm_spatial(x):\n",
    "    return np.log(((x/np.sum(x))*np.median(cell_count)) + 1)\n",
    "osmFISH_data = osmFISH_data.apply(Log_Norm_spatial,axis=0)"
   ]
  },
  {
   "cell_type": "code",
   "execution_count": null,
   "id": "eb4dd082",
   "metadata": {},
   "outputs": [],
   "source": [
    "sp_df = pd.DataFrame.transpose(osmFISH_data)\n",
    "sc_df = pd.DataFrame.transpose(RNA_data)"
   ]
  },
  {
   "cell_type": "code",
   "execution_count": null,
   "id": "66b657bb",
   "metadata": {},
   "outputs": [],
   "source": [
    "from SpaGE.principal_vectors import PVComputation\n",
    "from sklearn.neighbors import NearestNeighbors\n",
    "# Gene_set = ['Lamp5','Kcnip2','Rorb','Tbr1','Syt6']\n",
    "i = 'Lamp5'\n",
    "sp_df = sp_df.drop(i,axis=1)\n",
    "genes_to_predict = [i]\n",
    "# genes_to_predict = np.setdiff1d(sc_df.columns,sp_df.columns)\n",
    "n_pv = 30\n",
    "\n",
    "RNA_data_scaled = pd.DataFrame(data=st.zscore(sc_df,axis=0),\n",
    "                               index = sc_df.index,columns=sc_df.columns)\n",
    "Spatial_data_scaled = pd.DataFrame(data=st.zscore(sp_df,axis=0),\n",
    "                               index = sp_df.index,columns=sp_df.columns)\n",
    "Common_data = RNA_data_scaled[np.intersect1d(Spatial_data_scaled.columns,RNA_data_scaled.columns)]\n",
    "\n",
    "pv_FISH_RNA = PVComputation(\n",
    "        n_factors = n_pv,\n",
    "        n_pv = n_pv,\n",
    "        dim_reduction = 'pca',\n",
    "        dim_reduction_target = 'pca'\n",
    ")"
   ]
  },
  {
   "cell_type": "code",
   "execution_count": null,
   "id": "021aafd3",
   "metadata": {},
   "outputs": [],
   "source": [
    "from tqdm import tqdm\n",
    "pv_FISH_RNA.fit(Common_data,Spatial_data_scaled[Common_data.columns])\n",
    "S = pv_FISH_RNA.source_components_.T\n",
    "Effective_n_pv = sum(np.diag(pv_FISH_RNA.cosine_similarity_matrix_) > 0.3)\n",
    "S = S[:,0:Effective_n_pv]\n",
    "Common_data_t = Common_data.dot(S)\n",
    "FISH_exp_t = Spatial_data_scaled[Common_data.columns].dot(S)\n",
    "nbrs = NearestNeighbors(n_neighbors=15, algorithm='auto',\n",
    "                        metric = 'cosine').fit(Common_data_t)\n",
    "distances, indices = nbrs.kneighbors(FISH_exp_t)\n",
    "\n",
    "# Infer gene expression of genes not in panel on subsample of spots\n",
    "n_sub = 1000\n",
    "r_idx_sub = np.random.choice(sp_df.shape[0], 1000, replace=False)\n",
    "Imp_New_Genes = pd.DataFrame(np.zeros((n_sub,len(genes_to_predict))),\n",
    "                             columns=genes_to_predict, index = r_idx_sub)\n",
    "for j in tqdm(r_idx_sub):\n",
    "    weights = 1-(distances[j,:][distances[j,:]<1])/(np.sum(distances[j,:][distances[j,:]<1]))\n",
    "    weights = weights/(len(weights)-1)\n",
    "    Imp_New_Genes.loc[j,:] = np.dot(weights,sc_df[genes_to_predict].iloc[indices[j,:][distances[j,:] < 1]])"
   ]
  },
  {
   "cell_type": "code",
   "execution_count": null,
   "id": "0648cac4",
   "metadata": {},
   "outputs": [],
   "source": [
    "fig, ax2 = plt.subplots(1,1)\n",
    "# ax1.axis('off')\n",
    "# cmap =sp_df.loc[:,i].values\n",
    "# cmap[cmap > np.percentile(cmap,99)] = np.percentile(cmap,99)\n",
    "# ax1.scatter(adata_sp_nn.obs.loc[sp_df.index,'spotX'],adata_sp_nn.obs.loc[sp_df.index,'spotY'],s=1,c=cmap)\n",
    "# ax1.set_title('Measured ' + i, fontsize = 12)\n",
    "# ax1.set_ylabel(i)\n",
    "\n",
    "ax2.axis('off')\n",
    "cmap = Imp_New_Genes.loc[:,i].values\n",
    "cmap[cmap > np.percentile(cmap,99)] = np.percentile(cmap,99)\n",
    "ax2.scatter(osmFISH_meta.iloc[r_idx_sub,0],osmFISH_meta.iloc[r_idx_sub,1],s=10,c=cmap)\n",
    "ax2.set_title('Predicted ' + i, fontsize = 12)\n",
    "plt.axis('scaled')\n",
    "plt.gca().invert_yaxis()\n",
    "# plt.gca().invert_xaxis()"
   ]
  },
  {
   "cell_type": "code",
   "execution_count": null,
   "id": "223a7af7",
   "metadata": {},
   "outputs": [],
   "source": [
    "from SpaGE.principal_vectors import PVComputation\n",
    "from sklearn.neighbors import NearestNeighbors\n",
    "\n",
    "# Gene_set = ['Lamp5','Kcnip2','Rorb','Tbr1','Syt6']\n",
    "# i = 'SLC39A8'\n",
    "# sp_df = sp_df.drop(i,axis=1)\n",
    "# genes_to_predict = [i]\n",
    "\n",
    "genes_to_predict = np.setdiff1d(sc_df.columns,sp_df.columns)\n",
    "n_pv = 30\n",
    "\n",
    "RNA_data_scaled = pd.DataFrame(data=st.zscore(sc_df,axis=0),\n",
    "                               index = sc_df.index,columns=sc_df.columns)\n",
    "Spatial_data_scaled = pd.DataFrame(data=st.zscore(sp_df,axis=0),\n",
    "                               index = sp_df.index,columns=sp_df.columns)\n",
    "Common_data = Spatial_data_scaled[np.intersect1d(Spatial_data_scaled.columns,RNA_data_scaled.columns)]\n",
    "\n",
    "\n",
    "pv_SC_RNA = PVComputation(\n",
    "        n_factors = n_pv,\n",
    "        n_pv = n_pv,\n",
    "        dim_reduction = 'pca',\n",
    "        dim_reduction_target = 'pca'\n",
    ")"
   ]
  },
  {
   "cell_type": "code",
   "execution_count": null,
   "id": "3974c6cd",
   "metadata": {},
   "outputs": [],
   "source": [
    "osmFISH_meta['Cluster']=osmFISH_meta['leiden']"
   ]
  },
  {
   "cell_type": "code",
   "execution_count": null,
   "id": "de518390",
   "metadata": {},
   "outputs": [],
   "source": [
    "pv_SC_RNA.fit(Common_data,RNA_data_scaled[Common_data.columns])\n",
    "\n",
    "S = pv_SC_RNA.source_components_.T\n",
    "\n",
    "Effective_n_pv = sum(np.diag(pv_SC_RNA.cosine_similarity_matrix_) > 0.3)\n",
    "S = S[:,0:Effective_n_pv]\n",
    "\n",
    "Common_data_t = Common_data.dot(S)\n",
    "SC_exp_t = RNA_data_scaled[Common_data.columns].dot(S)\n",
    "\n",
    "nbrs = NearestNeighbors(n_neighbors=100, algorithm='auto',\n",
    "                        metric = 'cosine').fit(Common_data_t)\n",
    "distances, indices = nbrs.kneighbors(SC_exp_t)\n",
    "\n",
    "sc_cluster_df = pd.DataFrame(np.zeros((sc_df.shape[0],len(osmFISH_meta.Cluster.unique()))), index=sc_df.index, columns=np.arange(len(osmFISH_meta.Cluster.unique())))\n"
   ]
  },
  {
   "cell_type": "code",
   "execution_count": null,
   "id": "3406b080",
   "metadata": {},
   "outputs": [],
   "source": [
    "for j in tqdm(range(0,sc_df.shape[0])):\n",
    "    weights = 1-(distances[j,:][distances[j,:]<1])/(np.sum(distances[j,:][distances[j,:]<1]))\n",
    "    weights = weights/(len(weights)-1)\n",
    "    for c in osmFISH_meta.iloc[indices[j,:],:].Cluster.unique():\n",
    "        c_idx = np.where(osmFISH_meta.iloc[indices[j,:],:].Cluster.values==c)[0]\n",
    "        sc_cluster_df.iloc[j,int(c)] = np.sum(weights[c_idx])"
   ]
  },
  {
   "cell_type": "code",
   "execution_count": null,
   "id": "33808626",
   "metadata": {},
   "outputs": [],
   "source": [
    "sc_cluster_df.to_pickle('E:/PROJECT_DirectRNA/Figures_revision/ScRNAseq_integration/sc_cluster_df_dRNA_REV.h5')"
   ]
  },
  {
   "cell_type": "code",
   "execution_count": null,
   "id": "ec6af3c6",
   "metadata": {},
   "outputs": [],
   "source": [
    "sc_cluster_df = pd.read_pickle('G:/PROJECT_DirectRNA/Figures_revision/ScRNAseq_integration/sc_cluster_df_dRNA_REV.h5')"
   ]
  },
  {
   "cell_type": "code",
   "execution_count": null,
   "id": "f0ecbc1e",
   "metadata": {},
   "outputs": [],
   "source": [
    "sc_cluster_df"
   ]
  },
  {
   "cell_type": "code",
   "execution_count": null,
   "id": "3d7a4659",
   "metadata": {},
   "outputs": [],
   "source": [
    "cols=sc_cluster_df.columns"
   ]
  },
  {
   "cell_type": "code",
   "execution_count": null,
   "id": "0d372f7f",
   "metadata": {},
   "outputs": [],
   "source": [
    "colo=pd.DataFrame(cols,columns=['col'])"
   ]
  },
  {
   "cell_type": "code",
   "execution_count": null,
   "id": "91a113ec",
   "metadata": {},
   "outputs": [],
   "source": [
    "annotation= {0:'OLIG 1',1:'OLIG 2',2:'ASTRO',3:'EXC 1',4:'EXC 2',5:'INH 1',6:'EXC 3',7:'INH 2',8:'ENDO',9:'Calb2+ cells',10:'EXC 4',12:'EXC 5',11:'EXC 6',13:'EXC 7',14:'EXC 8',15:'OLIG 3',\n",
    "             16:'EXC 9',17:'OLIG',18:'EXC 10',19:'INH 3',20:'EXC 11',21:'EXC 12',22:'Tac2+ cells',23:'UNKNOWN',24:'C.PLEXUS/EPENDYMAL',25:'OLIG 4',26:'OLIG 5',27:'INH 4'}\n",
    "sc_cluster_df.columns=colo.col.apply(lambda x: annotation[x])"
   ]
  },
  {
   "cell_type": "code",
   "execution_count": null,
   "id": "bfd1953a",
   "metadata": {},
   "outputs": [],
   "source": [
    "\n",
    "import seaborn as sns\n",
    "ct_color_d = {0: '#F0756D',\n",
    "            1: '#E18725',\n",
    "            2: '#C5972B',\n",
    "            3: '#9EA237',\n",
    "            4: '#6AAF43',\n",
    "            5: '#29B14A',\n",
    "            6: '#30B47B',\n",
    "            7: '#23B9AA',\n",
    "            8: '#0AB9D6',\n",
    "            9: '#37AADF',\n",
    "            10: '#6F93CA',\n",
    "            11: '#9D84BB',\n",
    "            12: '#BB76B0',\n",
    "            13: '#D96DA8',\n",
    "            14: '#EE669E',\n",
    "             15: '#F0756D',\n",
    "            16: '#E18725',\n",
    "            17: '#C5972B',\n",
    "            18: '#9EA237',\n",
    "            19: '#F0756D',\n",
    "            20: '#E18725',\n",
    "            21: '#C5972B',\n",
    "            22: '#9EA237',\n",
    "            23: '#6AAF43',\n",
    "            24: '#29B14A',\n",
    "            25: '#30B47B',\n",
    "            26: '#23B9AA',\n",
    "            27: '#0AB9D6',\n",
    "            28: '#0AB9D6',\n",
    "          }\n",
    "\n",
    "row_colors = RNA_meta.loc[:,'Cluster'].map(ct_color_d)\n",
    "\n",
    "sns.clustermap(sc_cluster_df.loc[RNA_meta.sort_values('Cluster').index,:], row_cluster=True, method='average', figsize=(20,20),standard_scale=1,row_colors= row_colors) # "
   ]
  },
  {
   "cell_type": "code",
   "execution_count": null,
   "id": "9b913947",
   "metadata": {},
   "outputs": [],
   "source": [
    "\n",
    "d = {}\n",
    "for col in sc_cluster_df.columns:\n",
    "    sc_c = []\n",
    "    for c in np.sort(RNA_meta.BigCluster.unique()):\n",
    "        sc_c.append(sc_cluster_df.loc[RNA_meta[(RNA_meta.BigCluster==c)].index,col].sum())\n",
    "    if np.array(sc_c).argmax() in d:\n",
    "        d[np.array(sc_c).argmax()].append(col)\n",
    "    else:\n",
    "        d[np.array(sc_c).argmax()] = [col]"
   ]
  },
  {
   "cell_type": "code",
   "execution_count": null,
   "id": "753a62fd",
   "metadata": {},
   "outputs": [],
   "source": [
    "col_order = sum(list({k: d[k] for k in np.sort(list(d.keys()))}.values()),[])\n"
   ]
  },
  {
   "cell_type": "code",
   "execution_count": null,
   "id": "2b9fc5fa",
   "metadata": {},
   "outputs": [],
   "source": [
    "ct_color_d = {'Oligodendrocytes': '#F0756D',\n",
    "           'Telencephalon projecting excitatory neurons': '#E18725',\n",
    "            'Telencephalon inhibitory interneurons': '#C5972B',\n",
    "            'Di- and mesencephalon excitatory neurons': '#9EA237',\n",
    "            'Non-glutamatergic neuroblasts': '#6AAF43',\n",
    "            'Oligodendrocyte precursor cells': '#29B14A',\n",
    "            'Peptidergic neurons': '#30B47B',\n",
    "            'Vascular and leptomeningeal cells': '#23B9AA',\n",
    "            'Vascular smooth muscle cells': '#0AB9D6',\n",
    "            'Pericytes': '#37AADF',\n",
    "            'Vascular endothelial cells': '#6F93CA',\n",
    "            'Microglia': '#9D84BB',\n",
    "            'Perivascular macrophages': '#BB76B0',\n",
    "           'Astrocytes': '#D96DA8',\n",
    "           'Ependymal cells': '#EE669E'\n",
    "          }\n",
    "    "
   ]
  },
  {
   "cell_type": "code",
   "execution_count": null,
   "id": "d16582a5",
   "metadata": {},
   "outputs": [],
   "source": [
    "exc=sc_cluster_df.idxmax(axis=1)\n",
    "new_idx = []\n",
    "for c in np.sort(RNA_meta.BigCluster.unique()):\n",
    "#     Z = scipy.cluster.hierarchy.linkage(adata_tmp[adata_tmp.obs.cluster==c].X, method='single', metric='cosine')\n",
    "#     new_idx.append(adata_tmp[adata_tmp.obs.cluster==c].obs.iloc[np.flip(scipy.cluster.hierarchy.leaves_list(Z)),:].index.values)\n",
    "   for sp_c in col_order:\n",
    "        new_idx.append(RNA_meta[(exc==sp_c) & (RNA_meta.BigCluster==c)].index.values)\n",
    "      \n",
    "new_idx = np.concatenate(new_idx)\n",
    "inde=RNA_meta['BigCluster']"
   ]
  },
  {
   "cell_type": "code",
   "execution_count": null,
   "id": "136b854c",
   "metadata": {},
   "outputs": [],
   "source": [
    "\n",
    "row_colors = inde[new_idx].map(ct_color_d)"
   ]
  },
  {
   "cell_type": "code",
   "execution_count": null,
   "id": "508359cd",
   "metadata": {},
   "outputs": [],
   "source": [
    "import collections\n",
    "\n",
    "a = [1,1,1,1,2,2,2,2,3,3,4,5,5]\n",
    "counter=collections.Counter(RNA_meta.BigCluster)"
   ]
  },
  {
   "cell_type": "code",
   "execution_count": null,
   "id": "a1eae0e2",
   "metadata": {},
   "outputs": [],
   "source": [
    "np.sort(RNA_meta.BigCluster.unique())"
   ]
  },
  {
   "cell_type": "code",
   "execution_count": null,
   "id": "efeb7522",
   "metadata": {},
   "outputs": [],
   "source": [
    "cols=pd.DataFrame(sc_cluster_df.columns,columns=['col'])"
   ]
  },
  {
   "cell_type": "code",
   "execution_count": null,
   "id": "e628b85c",
   "metadata": {},
   "outputs": [],
   "source": [
    "annotation= {23:'OPC',0:'Oligo 1',22:'Oligo 2',\n",
    "26:'Oligo 3',3:'Oligo 4',9:'Oligo 5',29:'Oligo 6',7:'Inhibitory 1',1:'Inhibitory 2'\n",
    "             ,20:'Inhibitory 3',21:'Tac2+ cells',25:'Unknown 1',6:'endo/astro',11:'endo/astro',28:'microglia'\n",
    "             ,15:'Unknown 2',24:'Epen/C.plexus',8:'Calb2+ cells',14:'EXC1',10:'EXC2',12:'EXC3',\n",
    "18:'EXC4',27:'EXC5',17:'EXC6',19:'EXC7',\n",
    "2:'EXC8',26:'Oligo3',13:'EXC10',4:'EXC11',5:'EXC12',16:'EXC13'}\n",
    "sc_cluster_df.columns=cols.col.apply(lambda x: annotation[x])"
   ]
  },
  {
   "cell_type": "code",
   "execution_count": null,
   "id": "ab560fce",
   "metadata": {},
   "outputs": [],
   "source": [
    "sns_plot=sns.clustermap(sc_cluster_df.loc[new_idx,col_order],col_cluster=False, row_cluster=False,metric='cosine', method='ward', figsize=(20,20),row_colors= row_colors) #"
   ]
  },
  {
   "cell_type": "code",
   "execution_count": null,
   "id": "527bc6f2",
   "metadata": {},
   "outputs": [],
   "source": [
    "sns_plot.savefig(\"F:/PROJECT_DirectRNA/Figures_revision/ScRNAseq_integration/SpaGE_Single_cell_DRNA_correspondence_dpi700.png\",dpi=700)"
   ]
  },
  {
   "cell_type": "code",
   "execution_count": null,
   "id": "898cc83f",
   "metadata": {},
   "outputs": [],
   "source": [
    "\n",
    "d = {}\n",
    "for col in sc_cluster_df.columns:\n",
    "    sc_c = []\n",
    "    for c in np.sort(adata_tmp.obs.cluster.unique()):\n",
    "        sc_c.append(sc_cluster_df.loc[adata_tmp[(adata_tmp.obs.cluster==c)].obs.index,col].sum())\n",
    "    if np.array(sc_c).argmax() in d:\n",
    "        d[np.array(sc_c).argmax()].append(col)\n",
    "    else:\n",
    "        d[np.array(sc_c).argmax()] = [col]"
   ]
  },
  {
   "cell_type": "code",
   "execution_count": null,
   "id": "b7ee7305",
   "metadata": {},
   "outputs": [],
   "source": []
  }
 ],
 "metadata": {
  "kernelspec": {
   "display_name": "scanpy",
   "language": "python",
   "name": "scanpy"
  },
  "language_info": {
   "codemirror_mode": {
    "name": "ipython",
    "version": 3
   },
   "file_extension": ".py",
   "mimetype": "text/x-python",
   "name": "python",
   "nbconvert_exporter": "python",
   "pygments_lexer": "ipython3",
   "version": "3.7.11"
  }
 },
 "nbformat": 4,
 "nbformat_minor": 5
}
